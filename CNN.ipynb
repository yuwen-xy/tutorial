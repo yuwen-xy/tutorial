%tensorflow_version 1.x

import tensorflow as tf
tf.__version__

import os
import signal
#os.kill(os.getpid(), signal.SIGTERM)

from google.colab import drive
drive.mount('/content/gdrive')
os.chdir("/content/gdrive/My Drive/tutorial")
import input_data

def weight_variables(shape):
    w  =tf.Variable(tf.random_normal(shape=shape, mean=0.0, stddev=0.1))
    return w

def bias_variables(shape):
    b  =tf.Variable(tf.random_normal(shape=shape, mean=0.0, stddev=0.1))
    return b

def cnn_model():
    with tf.variable_scope("x_data"):
        x = tf.placeholder(tf.float32, [None, 784], name="x")
        y_true = tf.placeholder(tf.float32, [None, 10], "y_true")

    with tf.variable_scope("conv_1"):
        w_conv1 = weight_variables([5, 5, 1, 32])
        b_conv1 = bias_variables([32])
        x_reshape  = tf.reshape(x, [-1, 28, 28, 1])

        x_relu1 = tf.nn.relu(tf.nn.conv2d(x_reshape,
                                          w_conv1, 
                                          strides=[1, 1, 1, 1], 
                                          padding="SAME", 
                                          name="conv1") + b_conv1, name="relu1")
        x_pool1 = tf.nn.max_pool(x_relu1,
                                 ksize=[1, 2, 2, 1],
                                 strides=[1, 2, 2, 1],
                                 padding="SAME",
                                 name="pool1")

    with tf.variable_scope("conv2"):
        w_conv2 = weight_variables([5, 5, 32, 64])
        b_conv2 = bias_variables(([64]))
        x_relu2 = tf.nn.relu(tf.nn.conv2d(x_pool1,
                                          w_conv2,
                                          strides=[1, 1, 1, 1],
                                          padding="SAME",
                                          name="conv2") + b_conv2, name="relu2")
        x_pool2 = tf.nn.max_pool(x_relu2,
                                 ksize=[1, 2, 2, 1],
                                 strides=[1, 2, 2, 1],
                                 padding="SAME",
                                 name="pol2")

    with tf.variable_scope("fc"):
        w_fc = weight_variables([7*7*64, 10])
        b_fc = bias_variables([10])
        x_fc_reshape = tf.reshape(x_pool2, [-1, 7*7*64])
        y_predict = tf.matmul(x_fc_reshape, w_fc) + b_fc

    return x, y_true, y_predict

def cnn_train(t):
    mnist = input_data.read_data_sets("/content/gdrive/My Drive/tutorial/mnist", one_hot=True)
    x, y_true, y_predict = cnn_model()

    with tf.variable_scope("compute_loss"):
        all_loss = tf.nn.softmax_cross_entropy_with_logits(labels=y_true,
                                                           logits=y_predict,
                                                           name="compute_loss")
        loss = tf.reduce_mean(all_loss)

    with tf.variable_scope("optimizer"):
        train_op = tf.train.GradientDescentOptimizer(0.1).minimize(loss)

    with tf.variable_scope("accuracy"):
        equal_list = tf.equal(tf.argmax(y_predict, 1), tf.argmax(y_true, 1))
        accuracy = tf.reduce_mean(tf.cast(equal_list, tf.float32))

    saver = tf.train.Saver()

    with tf.Session() as sess:
        sess.run(tf.global_variables_initializer())
        if t == 1:  #train
            for i in range(2000):
                mnist_x, mnist_y = mnist.train.next_batch(50)
                loss_run, acc,  _ = sess.run([loss, accuracy,  train_op],
                                                     feed_dict={x: mnist_x, y_true: mnist_y})
                print("Step %d, loss is %f, accuracy is %f" % (i, loss_run, acc))
            
            saver.save(sess, "/content/gdrive/My Drive/tutorial/temp/model/fc_nn_model",global_step=i+1)

        else:       #test
            saver.restore(sess, "./temp/model/")
            for i in range(100):
                image, label =mnist.test.next_batch(1)
                print("sample: %d, true: %d, prediction: %d" % (
                    i + 1,
                    tf.argmax(sess.run(y_true, feed_dict={x: image, y_true:label}), 1).eval(),
                    tf.argmax(sess.run(y_predict, feed_dict={x: image, y_true: label}), 1).eval()))
    return None

if __name__ =="__main__":
    #train or test
    t = 0
    cnn_train(t)
